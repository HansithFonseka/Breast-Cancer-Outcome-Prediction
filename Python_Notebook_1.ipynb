{
  "cells": [
    {
      "cell_type": "markdown",
      "metadata": {
        "id": "bCoUmnCPWGn_"
      },
      "source": [
        "# Import libraries"
      ]
    },
    {
      "cell_type": "code",
      "execution_count": 2,
      "metadata": {
        "id": "lPfhwHTGWLcA"
      },
      "outputs": [],
      "source": [
        "import pandas as pd\n",
        "import numpy as np\n",
        "import seaborn as sns\n",
        "import matplotlib.pyplot as plt\n",
        "from sklearn.preprocessing import LabelEncoder"
      ]
    },
    {
      "cell_type": "markdown",
      "metadata": {
        "id": "Dugs1_gHUtkH"
      },
      "source": [
        "# Load dataset"
      ]
    },
    {
      "cell_type": "code",
      "execution_count": 3,
      "metadata": {
        "colab": {
          "base_uri": "https://localhost:8080/",
          "height": 313
        },
        "id": "kuAtDQyVT8sw",
        "outputId": "9395e577-58ef-4182-8b5b-5533590587d1"
      },
      "outputs": [
        {
          "data": {
            "text/html": [
              "<div>\n",
              "<style scoped>\n",
              "    .dataframe tbody tr th:only-of-type {\n",
              "        vertical-align: middle;\n",
              "    }\n",
              "\n",
              "    .dataframe tbody tr th {\n",
              "        vertical-align: top;\n",
              "    }\n",
              "\n",
              "    .dataframe thead th {\n",
              "        text-align: right;\n",
              "    }\n",
              "</style>\n",
              "<table border=\"1\" class=\"dataframe\">\n",
              "  <thead>\n",
              "    <tr style=\"text-align: right;\">\n",
              "      <th></th>\n",
              "      <th>Patient_ID</th>\n",
              "      <th>Month_of_Birth</th>\n",
              "      <th>Age</th>\n",
              "      <th>Sex</th>\n",
              "      <th>Occupation</th>\n",
              "      <th>T_Stage</th>\n",
              "      <th>N_Stage</th>\n",
              "      <th>6th_Stage</th>\n",
              "      <th>Differentiated</th>\n",
              "      <th>Grade</th>\n",
              "      <th>A_Stage</th>\n",
              "      <th>Tumor_Size</th>\n",
              "      <th>Estrogen_Status</th>\n",
              "      <th>Progesterone_Status</th>\n",
              "      <th>Regional_Node_Examined</th>\n",
              "      <th>Reginol_Node_Positive</th>\n",
              "      <th>Survival_Months</th>\n",
              "      <th>Mortality_Status</th>\n",
              "    </tr>\n",
              "  </thead>\n",
              "  <tbody>\n",
              "    <tr>\n",
              "      <th>0</th>\n",
              "      <td>A0012</td>\n",
              "      <td>12</td>\n",
              "      <td>68.0</td>\n",
              "      <td>Female</td>\n",
              "      <td>Teaching</td>\n",
              "      <td>T1</td>\n",
              "      <td>N1</td>\n",
              "      <td>IIA</td>\n",
              "      <td>Poorly differentiated</td>\n",
              "      <td>3</td>\n",
              "      <td>Regional</td>\n",
              "      <td>4.0</td>\n",
              "      <td>Positive</td>\n",
              "      <td>Positive</td>\n",
              "      <td>24.0</td>\n",
              "      <td>1</td>\n",
              "      <td>60</td>\n",
              "      <td>Alive</td>\n",
              "    </tr>\n",
              "    <tr>\n",
              "      <th>1</th>\n",
              "      <td>A0013</td>\n",
              "      <td>12</td>\n",
              "      <td>50.0</td>\n",
              "      <td>Female</td>\n",
              "      <td>Medical</td>\n",
              "      <td>T2</td>\n",
              "      <td>N2</td>\n",
              "      <td>IIIA</td>\n",
              "      <td>Moderately differentiated</td>\n",
              "      <td>2</td>\n",
              "      <td>Regional</td>\n",
              "      <td>35.0</td>\n",
              "      <td>Positive</td>\n",
              "      <td>Positive</td>\n",
              "      <td>14.0</td>\n",
              "      <td>5</td>\n",
              "      <td>62</td>\n",
              "      <td>Alive</td>\n",
              "    </tr>\n",
              "    <tr>\n",
              "      <th>2</th>\n",
              "      <td>A0014</td>\n",
              "      <td>11</td>\n",
              "      <td>58.0</td>\n",
              "      <td>Female</td>\n",
              "      <td>Engineering</td>\n",
              "      <td>T3</td>\n",
              "      <td>N3</td>\n",
              "      <td>IIIC</td>\n",
              "      <td>Moderately differentiated</td>\n",
              "      <td>2</td>\n",
              "      <td>Regional</td>\n",
              "      <td>63.0</td>\n",
              "      <td>Positive</td>\n",
              "      <td>Positive</td>\n",
              "      <td>14.0</td>\n",
              "      <td>7</td>\n",
              "      <td>75</td>\n",
              "      <td>Alive</td>\n",
              "    </tr>\n",
              "    <tr>\n",
              "      <th>3</th>\n",
              "      <td>A0015</td>\n",
              "      <td>3</td>\n",
              "      <td>58.0</td>\n",
              "      <td>Female</td>\n",
              "      <td>Technology</td>\n",
              "      <td>T1</td>\n",
              "      <td>N1</td>\n",
              "      <td>IIA</td>\n",
              "      <td>Poorly differentiated</td>\n",
              "      <td>3</td>\n",
              "      <td>Regional</td>\n",
              "      <td>18.0</td>\n",
              "      <td>Positive</td>\n",
              "      <td>Positive</td>\n",
              "      <td>2.0</td>\n",
              "      <td>1</td>\n",
              "      <td>84</td>\n",
              "      <td>Alive</td>\n",
              "    </tr>\n",
              "    <tr>\n",
              "      <th>4</th>\n",
              "      <td>A0016</td>\n",
              "      <td>1</td>\n",
              "      <td>47.0</td>\n",
              "      <td>Female</td>\n",
              "      <td>Multimedia</td>\n",
              "      <td>T2</td>\n",
              "      <td>N1</td>\n",
              "      <td>IIB</td>\n",
              "      <td>Poorly differentiated</td>\n",
              "      <td>3</td>\n",
              "      <td>Regional</td>\n",
              "      <td>41.0</td>\n",
              "      <td>Positive</td>\n",
              "      <td>Positive</td>\n",
              "      <td>3.0</td>\n",
              "      <td>1</td>\n",
              "      <td>50</td>\n",
              "      <td>Alive</td>\n",
              "    </tr>\n",
              "  </tbody>\n",
              "</table>\n",
              "</div>"
            ],
            "text/plain": [
              "  Patient_ID  Month_of_Birth   Age     Sex   Occupation T_Stage N_Stage  \\\n",
              "0      A0012              12  68.0  Female     Teaching      T1      N1   \n",
              "1      A0013              12  50.0  Female      Medical      T2      N2   \n",
              "2      A0014              11  58.0  Female  Engineering      T3      N3   \n",
              "3      A0015               3  58.0  Female   Technology      T1      N1   \n",
              "4      A0016               1  47.0  Female   Multimedia      T2      N1   \n",
              "\n",
              "  6th_Stage             Differentiated  Grade   A_Stage  Tumor_Size  \\\n",
              "0       IIA      Poorly differentiated      3  Regional         4.0   \n",
              "1      IIIA  Moderately differentiated      2  Regional        35.0   \n",
              "2      IIIC  Moderately differentiated      2  Regional        63.0   \n",
              "3       IIA      Poorly differentiated      3  Regional        18.0   \n",
              "4       IIB      Poorly differentiated      3  Regional        41.0   \n",
              "\n",
              "  Estrogen_Status Progesterone_Status  Regional_Node_Examined  \\\n",
              "0        Positive            Positive                    24.0   \n",
              "1        Positive            Positive                    14.0   \n",
              "2        Positive            Positive                    14.0   \n",
              "3        Positive            Positive                     2.0   \n",
              "4        Positive            Positive                     3.0   \n",
              "\n",
              "   Reginol_Node_Positive  Survival_Months Mortality_Status  \n",
              "0                      1               60            Alive  \n",
              "1                      5               62            Alive  \n",
              "2                      7               75            Alive  \n",
              "3                      1               84            Alive  \n",
              "4                      1               50            Alive  "
            ]
          },
          "execution_count": 3,
          "metadata": {},
          "output_type": "execute_result"
        }
      ],
      "source": [
        "import pandas as pd\n",
        "df = pd.read_csv('5DATA002W.2 Coursework Dataset(25012025v6.0).csv')\n",
        "df.head()"
      ]
    },
    {
      "cell_type": "markdown",
      "metadata": {
        "id": "WPIuPvSXU81P"
      },
      "source": [
        "# Initial exploration"
      ]
    },
    {
      "cell_type": "code",
      "execution_count": 4,
      "metadata": {
        "colab": {
          "base_uri": "https://localhost:8080/"
        },
        "id": "Tw6i-_BRU8cH",
        "outputId": "01da4bcd-784a-4232-d35a-cf1c45a79c7f"
      },
      "outputs": [
        {
          "name": "stdout",
          "output_type": "stream",
          "text": [
            "(4024, 18)\n",
            "<class 'pandas.core.frame.DataFrame'>\n",
            "RangeIndex: 4024 entries, 0 to 4023\n",
            "Data columns (total 18 columns):\n",
            " #   Column                  Non-Null Count  Dtype  \n",
            "---  ------                  --------------  -----  \n",
            " 0   Patient_ID              4024 non-null   object \n",
            " 1   Month_of_Birth          4024 non-null   int64  \n",
            " 2   Age                     4015 non-null   float64\n",
            " 3   Sex                     4020 non-null   object \n",
            " 4   Occupation              43 non-null     object \n",
            " 5   T_Stage                 4024 non-null   object \n",
            " 6   N_Stage                 4024 non-null   object \n",
            " 7   6th_Stage               4024 non-null   object \n",
            " 8   Differentiated          4024 non-null   object \n",
            " 9   Grade                   4024 non-null   int64  \n",
            " 10  A_Stage                 4024 non-null   object \n",
            " 11  Tumor_Size              4021 non-null   float64\n",
            " 12  Estrogen_Status         4024 non-null   object \n",
            " 13  Progesterone_Status     4024 non-null   object \n",
            " 14  Regional_Node_Examined  4023 non-null   float64\n",
            " 15  Reginol_Node_Positive   4024 non-null   int64  \n",
            " 16  Survival_Months         4024 non-null   int64  \n",
            " 17  Mortality_Status        4024 non-null   object \n",
            "dtypes: float64(3), int64(4), object(11)\n",
            "memory usage: 566.0+ KB\n",
            "None\n",
            "       Month_of_Birth          Age        Grade   Tumor_Size  \\\n",
            "count     4024.000000  4015.000000  4024.000000  4021.000000   \n",
            "mean         6.481362    54.107098     2.150596    30.419299   \n",
            "std          3.475442    11.715528     0.638234    21.161080   \n",
            "min          1.000000   -50.000000     1.000000   -75.000000   \n",
            "25%          3.000000    47.000000     2.000000    16.000000   \n",
            "50%          6.000000    54.000000     2.000000    25.000000   \n",
            "75%         10.000000    61.000000     3.000000    38.000000   \n",
            "max         12.000000   502.000000     4.000000   140.000000   \n",
            "\n",
            "       Regional_Node_Examined  Reginol_Node_Positive  Survival_Months  \n",
            "count             4023.000000            4024.000000      4024.000000  \n",
            "mean                14.373602               4.158052        71.472167  \n",
            "std                  8.129293               5.109331        25.361855  \n",
            "min                  1.000000               1.000000         1.000000  \n",
            "25%                  9.000000               1.000000        56.000000  \n",
            "50%                 14.000000               2.000000        73.000000  \n",
            "75%                 19.000000               5.000000        90.000000  \n",
            "max                 61.000000              46.000000       760.000000  \n",
            "Patient_ID                   0\n",
            "Month_of_Birth               0\n",
            "Age                          9\n",
            "Sex                          4\n",
            "Occupation                3981\n",
            "T_Stage                      0\n",
            "N_Stage                      0\n",
            "6th_Stage                    0\n",
            "Differentiated               0\n",
            "Grade                        0\n",
            "A_Stage                      0\n",
            "Tumor_Size                   3\n",
            "Estrogen_Status              0\n",
            "Progesterone_Status          0\n",
            "Regional_Node_Examined       1\n",
            "Reginol_Node_Positive        0\n",
            "Survival_Months              0\n",
            "Mortality_Status             0\n",
            "dtype: int64\n"
          ]
        }
      ],
      "source": [
        "print(df.shape)\n",
        "print(df.info())\n",
        "print(df.describe())\n",
        "print(df.isnull().sum())\n"
      ]
    },
    {
      "cell_type": "code",
      "execution_count": 5,
      "metadata": {
        "colab": {
          "base_uri": "https://localhost:8080/",
          "height": 178
        },
        "id": "9K8yiea7ZGBW",
        "outputId": "d311e0ca-5561-45cc-f422-ff6b768aa72b"
      },
      "outputs": [
        {
          "data": {
            "text/plain": [
              "Mortality_Status\n",
              "Alive    3408\n",
              "Dead      616\n",
              "Name: count, dtype: int64"
            ]
          },
          "execution_count": 5,
          "metadata": {},
          "output_type": "execute_result"
        }
      ],
      "source": [
        "df['Mortality_Status'] = df['Mortality_Status'].str.lower().map({\n",
        "    'alive': 'Alive',\n",
        "    'dead': 'Dead'\n",
        "})\n",
        "df['Mortality_Status'].unique()\n",
        "df['Mortality_Status'].value_counts()"
      ]
    },
    {
      "cell_type": "markdown",
      "metadata": {
        "id": "5Mujq886WlWX"
      },
      "source": [
        "# Drop irrelevant columns"
      ]
    },
    {
      "cell_type": "code",
      "execution_count": null,
      "metadata": {
        "id": "_5MqaaUwWoAW"
      },
      "outputs": [],
      "source": [
        "df.drop(['Patient_ID', 'Month_of_Birth'], axis=1, inplace=True)"
      ]
    },
    {
      "cell_type": "markdown",
      "metadata": {
        "id": "c-E2j8tQW0yD"
      },
      "source": [
        "# Encode categorical columns"
      ]
    },
    {
      "cell_type": "code",
      "execution_count": null,
      "metadata": {
        "id": "Ki2yU4RtW0Y6"
      },
      "outputs": [],
      "source": [
        "categorical_cols = df.select_dtypes(include='object').columns\n",
        "label_encoders = {}\n",
        "for col in categorical_cols:\n",
        "    le = LabelEncoder()\n",
        "    df[col] = le.fit_transform(df[col].astype(str))\n",
        "    label_encoders[col] = le"
      ]
    },
    {
      "cell_type": "markdown",
      "metadata": {
        "id": "1R9NFzdvXCie"
      },
      "source": [
        "# Fix missing values"
      ]
    },
    {
      "cell_type": "code",
      "execution_count": null,
      "metadata": {
        "id": "-WWmHos8XFAm"
      },
      "outputs": [],
      "source": [
        "df.fillna(df.median(numeric_only=True), inplace=True)"
      ]
    },
    {
      "cell_type": "code",
      "execution_count": null,
      "metadata": {
        "colab": {
          "base_uri": "https://localhost:8080/"
        },
        "id": "9fr1vNuoqm8v",
        "outputId": "cf0e0510-7c50-4fa5-cb09-503059c111e2"
      },
      "outputs": [
        {
          "name": "stdout",
          "output_type": "stream",
          "text": [
            "Age                       0\n",
            "Sex                       0\n",
            "Occupation                0\n",
            "T_Stage                   0\n",
            "N_Stage                   0\n",
            "6th_Stage                 0\n",
            "Differentiated            0\n",
            "Grade                     0\n",
            "A_Stage                   0\n",
            "Tumor_Size                0\n",
            "Estrogen_Status           0\n",
            "Progesterone_Status       0\n",
            "Regional_Node_Examined    0\n",
            "Reginol_Node_Positive     0\n",
            "Survival_Months           0\n",
            "Mortality_Status          0\n",
            "dtype: int64\n"
          ]
        }
      ],
      "source": [
        "print(df.isnull().sum())"
      ]
    },
    {
      "cell_type": "markdown",
      "metadata": {
        "id": "Vxo098Y6XHsf"
      },
      "source": [
        "# Distribution of target (Mortality Status)"
      ]
    },
    {
      "cell_type": "code",
      "execution_count": null,
      "metadata": {
        "colab": {
          "base_uri": "https://localhost:8080/",
          "height": 472
        },
        "id": "wjC31yI8XJ7G",
        "outputId": "83ed4d68-7be9-400b-eaa7-a14df0f7bc0d"
      },
      "outputs": [
        {
          "data": {
            "image/png": "[encoded data removed]",
            "text/plain": [
              "<Figure size 640x480 with 1 Axes>"
            ]
          },
          "metadata": {},
          "output_type": "display_data"
        }
      ],
      "source": [
        "sns.countplot(x='Mortality_Status', data=df)\n",
        "plt.title(\"Target Variable Distribution (Mortality Status)\")\n",
        "plt.show()"
      ]
    },
    {
      "cell_type": "markdown",
      "metadata": {
        "id": "Vuj3HyuSZXND"
      },
      "source": [
        "# Create classification dataset"
      ]
    },
    {
      "cell_type": "code",
      "execution_count": null,
      "metadata": {
        "id": "AB2EWfLuZW5A"
      },
      "outputs": [],
      "source": [
        "classification_data = df.copy()\n",
        "classification_data.drop('Survival_Months', axis=1, inplace=True)"
      ]
    },
    {
      "cell_type": "markdown",
      "metadata": {
        "id": "-tfvNoCGZdMk"
      },
      "source": [
        "# Create regression dataset (only dead patients)"
      ]
    },
    {
      "cell_type": "code",
      "execution_count": null,
      "metadata": {
        "id": "-gVJpkV0ZfUq"
      },
      "outputs": [],
      "source": [
        "regression_data = df[df['Mortality_Status'] == 1].copy()\n",
        "regression_data.drop('Mortality_Status', axis=1, inplace=True)"
      ]
    },
    {
      "cell_type": "markdown",
      "metadata": {
        "id": "FIYHq0PvZ3Fo"
      },
      "source": [
        "# Save processed versions"
      ]
    },
    {
      "cell_type": "code",
      "execution_count": null,
      "metadata": {
        "id": "MO2obgprZ4BJ"
      },
      "outputs": [],
      "source": [
        ".to_csv(\"classification_data.csv\", index=False)\n",
        "regression_data.to_csv(\"regression_data.csv\", index=False)classification_data"
      ]
    }
  ],
  "metadata": {
    "colab": {
      "provenance": []
    },
    "kernelspec": {
      "display_name": "base",
      "language": "python",
      "name": "python3"
    },
    "language_info": {
      "codemirror_mode": {
        "name": "ipython",
        "version": 3
      },
      "file_extension": ".py",
      "mimetype": "text/x-python",
      "name": "python",
      "nbconvert_exporter": "python",
      "pygments_lexer": "ipython3",
      "version": "3.11.7"
    }
  },
  "nbformat": 4,
  "nbformat_minor": 0
}
