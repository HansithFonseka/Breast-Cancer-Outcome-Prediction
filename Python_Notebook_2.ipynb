{
  "nbformat": 4,
  "nbformat_minor": 0,
  "metadata": {
    "colab": {
      "provenance": []
    },
    "kernelspec": {
      "name": "python3",
      "display_name": "Python 3"
    },
    "language_info": {
      "name": "python"
    }
  },
  "cells": [
    {
      "cell_type": "code",
      "source": [
        "# !pip install imbalanced-learn"
      ],
      "metadata": {
        "id": "VQ0EQy2Xc3BK"
      },
      "execution_count": null,
      "outputs": []
    },
    {
      "cell_type": "code",
      "execution_count": null,
      "metadata": {
        "id": "6CCN56CGarrj"
      },
      "outputs": [],
      "source": [
        "from sklearn.model_selection import train_test_split, GridSearchCV\n",
        "from sklearn.metrics import classification_report, confusion_matrix, roc_auc_score, roc_curve, accuracy_score\n",
        "from sklearn.naive_bayes import GaussianNB\n",
        "from sklearn.linear_model import LogisticRegression\n",
        "from sklearn.neighbors import KNeighborsClassifier\n",
        "from sklearn.preprocessing import StandardScaler\n",
        "from imblearn.over_sampling import SMOTE\n",
        "import matplotlib.pyplot as plt\n",
        "import pandas as pd\n",
        "import seaborn as sns\n",
        "import matplotlib.pyplot as plt\n",
        "from sklearn.metrics import confusion_matrix"
      ]
    },
    {
      "cell_type": "markdown",
      "source": [
        "# Load cleaned classification dataset"
      ],
      "metadata": {
        "id": "QARCo-jxayVu"
      }
    },
    {
      "cell_type": "code",
      "source": [
        "df = pd.read_csv(\"classification_data.csv\")"
      ],
      "metadata": {
        "id": "liR_C-xfa0lm"
      },
      "execution_count": null,
      "outputs": []
    },
    {
      "cell_type": "code",
      "source": [
        "# Define X and y\n",
        "X = df.drop('Mortality_Status', axis=1)\n",
        "y = df['Mortality_Status']"
      ],
      "metadata": {
        "id": "NFAaMyoMbEOW"
      },
      "execution_count": null,
      "outputs": []
    },
    {
      "cell_type": "code",
      "source": [
        "X.columns.tolist()\n"
      ],
      "metadata": {
        "id": "8TIcJE95taiJ",
        "outputId": "c295b260-2473-4c4f-9797-fe8e01a48b5b",
        "colab": {
          "base_uri": "https://localhost:8080/"
        }
      },
      "execution_count": null,
      "outputs": [
        {
          "output_type": "execute_result",
          "data": {
            "text/plain": [
              "['Age',\n",
              " 'Sex',\n",
              " 'Occupation',\n",
              " 'T_Stage',\n",
              " 'N_Stage',\n",
              " '6th_Stage',\n",
              " 'Differentiated',\n",
              " 'Grade',\n",
              " 'A_Stage',\n",
              " 'Tumor_Size',\n",
              " 'Estrogen_Status',\n",
              " 'Progesterone_Status',\n",
              " 'Regional_Node_Examined',\n",
              " 'Reginol_Node_Positive']"
            ]
          },
          "metadata": {},
          "execution_count": 86
        }
      ]
    },
    {
      "cell_type": "code",
      "source": [
        "# Train/test split\n",
        "X_train, X_test, y_train, y_test = train_test_split(X, y, test_size=0.2, stratify=y, random_state=42)"
      ],
      "metadata": {
        "id": "koAQ9A-ZbJQo"
      },
      "execution_count": null,
      "outputs": []
    },
    {
      "cell_type": "code",
      "source": [
        "# Scale features\n",
        "scaler = StandardScaler()\n",
        "X_train_scaled = scaler.fit_transform(X_train)\n",
        "X_test_scaled = scaler.transform(X_test)\n"
      ],
      "metadata": {
        "id": "SpgQcDVWbSN4"
      },
      "execution_count": null,
      "outputs": []
    },
    {
      "cell_type": "code",
      "source": [
        "# Apply SMOTE only on training data\n",
        "smote = SMOTE(random_state=42)\n",
        "X_train_smote, y_train_smote = smote.fit_resample(X_train_scaled, y_train)\n",
        "\n",
        "# Check class distribution after SMOTE\n",
        "print(\"Before SMOTE:\", y_train.value_counts().to_dict())\n",
        "print(\"After SMOTE :\", pd.Series(y_train_smote).value_counts().to_dict())"
      ],
      "metadata": {
        "colab": {
          "base_uri": "https://localhost:8080/"
        },
        "id": "JGjKnZfCfGxd",
        "outputId": "1cccdd68-6443-4cbe-8d59-24334eb62cc6"
      },
      "execution_count": null,
      "outputs": [
        {
          "output_type": "stream",
          "name": "stdout",
          "text": [
            "Before SMOTE: {0: 2726, 1: 493}\n",
            "After SMOTE : {0: 2726, 1: 2726}\n"
          ]
        }
      ]
    },
    {
      "cell_type": "code",
      "source": [
        "# Models\n",
        "models = {\n",
        "    'NB': GaussianNB(),\n",
        "    'LR': LogisticRegression(max_iter=1000),\n",
        "    'KNN': KNeighborsClassifier()\n",
        "}"
      ],
      "metadata": {
        "id": "YwZRgFJebWTl"
      },
      "execution_count": null,
      "outputs": []
    },
    {
      "cell_type": "code",
      "source": [
        "for name, model in models.items():\n",
        "    model.fit(X_train_scaled, y_train)\n",
        "    y_pred = model.predict(X_test_scaled)\n",
        "    accuracy = accuracy_score(y_test, y_pred)\n",
        "    print(f\"\\n{name} Accuracy: {accuracy:.4f}\")\n",
        "    print(f\"\\n{name} Confusion Matrix:\\n\", confusion_matrix(y_test, y_pred))\n",
        "    print(f\"{name} Classification Report:\\n\", classification_report(y_test, y_pred))\n",
        "    if name != 'NB':\n",
        "        y_probs = model.predict_proba(X_test_scaled)[:,1]\n",
        "        fpr, tpr, _ = roc_curve(y_test, y_probs)\n",
        "        auc = roc_auc_score(y_test, y_probs)\n",
        "        plt.plot(fpr, tpr, label=f\"{name} (AUC = {auc:.2f})\")\n",
        "\n",
        "plt.plot([0, 1], [0, 1], '--', color='grey')\n",
        "plt.legend()\n",
        "plt.title(\"ROC Curves\")\n",
        "plt.xlabel(\"False Positive Rate\")\n",
        "plt.ylabel(\"True Positive Rate\")\n",
        "plt.show()"
      ],
      "metadata": {
        "colab": {
          "base_uri": "https://localhost:8080/",
          "height": 1000
        },
        "id": "BCWcyMA-bZfX",
        "outputId": "92dba317-365a-404a-86b2-99fc9be0428a"
      },
      "execution_count": null,
      "outputs": [
        {
          "output_type": "stream",
          "name": "stdout",
          "text": [
            "\n",
            "NB Accuracy: 0.7677\n",
            "\n",
            "NB Confusion Matrix:\n",
            " [[569 113]\n",
            " [ 74  49]]\n",
            "NB Classification Report:\n",
            "               precision    recall  f1-score   support\n",
            "\n",
            "           0       0.88      0.83      0.86       682\n",
            "           1       0.30      0.40      0.34       123\n",
            "\n",
            "    accuracy                           0.77       805\n",
            "   macro avg       0.59      0.62      0.60       805\n",
            "weighted avg       0.80      0.77      0.78       805\n",
            "\n",
            "\n",
            "LR Accuracy: 0.8534\n",
            "\n",
            "LR Confusion Matrix:\n",
            " [[671  11]\n",
            " [107  16]]\n",
            "LR Classification Report:\n",
            "               precision    recall  f1-score   support\n",
            "\n",
            "           0       0.86      0.98      0.92       682\n",
            "           1       0.59      0.13      0.21       123\n",
            "\n",
            "    accuracy                           0.85       805\n",
            "   macro avg       0.73      0.56      0.57       805\n",
            "weighted avg       0.82      0.85      0.81       805\n",
            "\n",
            "\n",
            "KNN Accuracy: 0.8236\n",
            "\n",
            "KNN Confusion Matrix:\n",
            " [[643  39]\n",
            " [103  20]]\n",
            "KNN Classification Report:\n",
            "               precision    recall  f1-score   support\n",
            "\n",
            "           0       0.86      0.94      0.90       682\n",
            "           1       0.34      0.16      0.22       123\n",
            "\n",
            "    accuracy                           0.82       805\n",
            "   macro avg       0.60      0.55      0.56       805\n",
            "weighted avg       0.78      0.82      0.80       805\n",
            "\n"
          ]
        },
        {
          "output_type": "display_data",
          "data": {
            "text/plain": [
              "<Figure size 640x480 with 1 Axes>"
            ],
            "image/png": "[encoded data removed]"
          },
          "metadata": {}
        }
      ]
    },
    {
      "cell_type": "code",
      "source": [
        "# Logistic Regression instance without hyperparameter tuning\n",
        "blr = LogisticRegression(max_iter=1000)\n",
        "\n",
        "# Train the model on the original training data\n",
        "blr.fit(X_train_smote, y_train_smote)\n",
        "\n",
        "# Make predictions on the test set\n",
        "y_pred_before = blr.predict(X_test_scaled)\n",
        "\n",
        "# Evaluate the model performance\n",
        "print(\"Before Parameter Tuning - Confusion Matrix:\")\n",
        "print(confusion_matrix(y_test, y_pred_before))\n",
        "\n",
        "print(\"\\nBefore Parameter Tuning - Classification Report:\")\n",
        "print(classification_report(y_test, y_pred_before))\n",
        "\n",
        "print(f\"Before Parameter Tuning - AUC-ROC Score: {roc_auc_score(y_test, blr.predict_proba(X_test_scaled)[:, 1]):.2f}\")\n"
      ],
      "metadata": {
        "colab": {
          "base_uri": "https://localhost:8080/"
        },
        "id": "wK3fM-RwgMdj",
        "outputId": "1fafb563-9415-4041-915f-df50fda11417"
      },
      "execution_count": null,
      "outputs": [
        {
          "output_type": "stream",
          "name": "stdout",
          "text": [
            "Before Parameter Tuning - Confusion Matrix:\n",
            "[[488 194]\n",
            " [ 45  78]]\n",
            "\n",
            "Before Parameter Tuning - Classification Report:\n",
            "              precision    recall  f1-score   support\n",
            "\n",
            "           0       0.92      0.72      0.80       682\n",
            "           1       0.29      0.63      0.39       123\n",
            "\n",
            "    accuracy                           0.70       805\n",
            "   macro avg       0.60      0.67      0.60       805\n",
            "weighted avg       0.82      0.70      0.74       805\n",
            "\n",
            "Before Parameter Tuning - AUC-ROC Score: 0.73\n"
          ]
        }
      ]
    },
    {
      "cell_type": "code",
      "source": [
        "param_grid = {\n",
        "    'C': [0.01, 0.1, 1, 10],            # Regularization strength\n",
        "    'penalty': ['l1', 'l2'],            # L1 = Lasso, L2 = Ridge\n",
        "    'solver': ['liblinear'],\n",
        "    'class_weight': [None, 'balanced']\n",
        "}\n",
        "\n",
        "# Logistic Regression instance\n",
        "lr = LogisticRegression(max_iter=1000)\n",
        "\n",
        "# Grid search on SMOTE-resampled training data\n",
        "grid = GridSearchCV(lr, param_grid, cv=5, scoring='f1', n_jobs=-1)\n",
        "grid.fit(X_train_smote, y_train_smote)\n",
        "\n",
        "# Best hyperparameters\n",
        "print(\"Best Hyperparameters:\", grid.best_params_)"
      ],
      "metadata": {
        "colab": {
          "base_uri": "https://localhost:8080/"
        },
        "id": "EusqPdnih_Vt",
        "outputId": "e3a856e1-6279-49d2-8c70-4dc5afff400c"
      },
      "execution_count": null,
      "outputs": [
        {
          "output_type": "stream",
          "name": "stdout",
          "text": [
            "Best Hyperparameters: {'C': 1, 'class_weight': 'balanced', 'penalty': 'l1', 'solver': 'liblinear'}\n"
          ]
        }
      ]
    },
    {
      "cell_type": "code",
      "source": [
        "# Evaluate on original test set\n",
        "best_model = grid.best_estimator_\n",
        "y_pred = best_model.predict(X_test_scaled)"
      ],
      "metadata": {
        "id": "GkJjX9DqbgH5"
      },
      "execution_count": null,
      "outputs": []
    },
    {
      "cell_type": "code",
      "source": [
        "print(\"\\nConfusion Matrix:\\n\", confusion_matrix(y_test, y_pred))\n",
        "print(\"\\nClassification Report:\\n\", classification_report(y_test, y_pred))\n",
        "print(f\"AUC-ROC Score: {roc_auc_score(y_test, best_model.predict_proba(X_test_scaled)[:, 1]):.2f}\")"
      ],
      "metadata": {
        "colab": {
          "base_uri": "https://localhost:8080/"
        },
        "id": "4tGJbuqdbjrg",
        "outputId": "51a52262-03c8-4f45-cee3-5c78d76295e0"
      },
      "execution_count": null,
      "outputs": [
        {
          "output_type": "stream",
          "name": "stdout",
          "text": [
            "\n",
            "Confusion Matrix:\n",
            " [[489 193]\n",
            " [ 45  78]]\n",
            "\n",
            "Classification Report:\n",
            "               precision    recall  f1-score   support\n",
            "\n",
            "           0       0.92      0.72      0.80       682\n",
            "           1       0.29      0.63      0.40       123\n",
            "\n",
            "    accuracy                           0.70       805\n",
            "   macro avg       0.60      0.68      0.60       805\n",
            "weighted avg       0.82      0.70      0.74       805\n",
            "\n",
            "AUC-ROC Score: 0.73\n"
          ]
        }
      ]
    }
  ]
}